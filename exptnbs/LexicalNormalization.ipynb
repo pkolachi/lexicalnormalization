{
  "nbformat": 4,
  "nbformat_minor": 0,
  "metadata": {
    "colab": {
      "name": "LexicalNormalization.ipynb",
      "provenance": [],
      "authorship_tag": "ABX9TyM6itzXwQdxPOfAT8T29NOu",
      "include_colab_link": true
    },
    "kernelspec": {
      "name": "python3",
      "display_name": "Python 3"
    },
    "language_info": {
      "name": "python"
    }
  },
  "cells": [
    {
      "cell_type": "markdown",
      "metadata": {
        "id": "view-in-github",
        "colab_type": "text"
      },
      "source": [
        "<a href=\"https://colab.research.google.com/github/pkolachi/lexicalnormalization/blob/master/exptnbs/LexicalNormalization.ipynb\" target=\"_parent\"><img src=\"https://colab.research.google.com/assets/colab-badge.svg\" alt=\"Open In Colab\"/></a>"
      ]
    },
    {
      "cell_type": "markdown",
      "metadata": {
        "id": "xzRtzY3ApXhe"
      },
      "source": [
        "### Setup and Configuration"
      ]
    },
    {
      "cell_type": "code",
      "metadata": {
        "colab": {
          "base_uri": "https://localhost:8080/"
        },
        "id": "ywhY3ZLXJs0P",
        "outputId": "5cf61797-4991-48da-d089-a352578abaf4"
      },
      "source": [
        "!git clone https://github.com/pkolachi/lexicalnormalization"
      ],
      "execution_count": null,
      "outputs": [
        {
          "output_type": "stream",
          "text": [
            "Cloning into 'multilexnorm'...\n",
            "remote: Counting objects: 43, done.\u001b[K\n",
            "remote: Compressing objects: 100% (37/37), done.\u001b[K\n",
            "remote: Total 43 (delta 1), reused 0 (delta 0)\u001b[K\n",
            "Unpacking objects: 100% (43/43), done.\n"
          ],
          "name": "stdout"
        }
      ]
    },
    {
      "cell_type": "code",
      "metadata": {
        "id": "GTkdFPXmKBCH"
      },
      "source": [
        "LANGS = {'da': 'Danish',\n",
        "         'en': 'English',\n",
        "         'es': 'Spanish',\n",
        "         'fr': 'French',\n",
        "         'hr': 'Croatian',\n",
        "         'iden': 'Indonesian-English',\n",
        "         'it': 'Italian',\n",
        "         'nl': 'Dutch',\n",
        "         'sl': 'Slovenian',\n",
        "         'sr': 'Serbian',\n",
        "         'tr': 'Turkish',\n",
        "         'trde': 'Turkish-German',\n",
        "         }\n",
        "SMPLS = ['en']"
      ],
      "execution_count": null,
      "outputs": []
    },
    {
      "cell_type": "markdown",
      "metadata": {
        "id": "BSzppLsjpdql"
      },
      "source": [
        "### Load Data"
      ]
    },
    {
      "cell_type": "code",
      "metadata": {
        "id": "VTSBr-AMNXzf"
      },
      "source": [
        "from collections import defaultdict \n",
        "from operator import itemgetter\n",
        "import os.path \n",
        "\n",
        "def read_data(inpfile):\n",
        "  with open(inpfile) as ins:\n",
        "    sent = []\n",
        "    for lne in ins:\n",
        "      if not lne.strip():\n",
        "        yield sent\n",
        "        sent = []\n",
        "      else:\n",
        "        sent.append(lne.split('\\t', 1))\n",
        "\n",
        "DATA = defaultdict(lambda: defaultdict(list))\n",
        "for lang in SMPLS:\n",
        "  datadir = os.path.join('multilexnorm', 'data', lang)\n",
        "  trnfile = os.path.join(datadir, 'train.norm')\n",
        "  devfile = os.path.join(datadir, 'dev.norm')\n",
        "  tstfile = os.path.join(datadir, 'test.norm')\n",
        "  if os.path.isdir(datadir) and os.path.isfile(trnfile):\n",
        "    crp = list(read_data(trnfile))\n",
        "    X = list(map(itemgetter(0), crp))  # load input (un-normalized sentences)\n",
        "    Y = list(map(itemgetter(1), crp))  # load output (normalized sentences)\n",
        "    DATA[lang]['fulltrn'] = (X, Y)\n",
        "  if os.path.isdir(datadir) and os.path.isfile(devfile):\n",
        "    crp = list(read_data(devfile))\n",
        "    DATA[lang]['dev'] = (list(map(itemgetter(0), crp)), \n",
        "                         list(map(itemgetter(1), crp)))\n",
        "  if os.path.isdir(datadir) and os.path.isfile(tstfile):\n",
        "    crp = list(read_data(tstfile))\n",
        "    DATA[lang]['tst'] = (list(map(itemgetter(0), crp)), \n",
        "                         list(map(itemgetter(1), crp)))"
      ],
      "execution_count": null,
      "outputs": []
    },
    {
      "cell_type": "code",
      "metadata": {
        "id": "V4J-9JaRXMOX"
      },
      "source": [
        "TST_RATIO = 0.25\n",
        "from sklearn.model_selection import train_test_split \n",
        "\n",
        "for lang in SMPLS:\n",
        "  if 'fulltrn' in DATA[lang]:\n",
        "    trn_x, hld_x, trn_y, hld_y = train_test_split(DATA[lang]['fulltrn'][0], \n",
        "                                                  DATA[lang]['fulltrn'][1], \n",
        "                                                  test_size=TST_RATIO, \n",
        "                                                  random_state=0, \n",
        "                                                  shuffle=False)\n",
        "    DATA[lang]['trn'] = (trn_x, trn_y)\n",
        "    DATA[lang]['hld'] = (hld_x, hld_y)"
      ],
      "execution_count": null,
      "outputs": []
    },
    {
      "cell_type": "markdown",
      "metadata": {
        "id": "LdjItmlUpj3k"
      },
      "source": [
        "### Preprocessing"
      ]
    },
    {
      "cell_type": "code",
      "metadata": {
        "id": "7qkRzWpGY-fW"
      },
      "source": [
        ""
      ],
      "execution_count": null,
      "outputs": []
    }
  ]
}