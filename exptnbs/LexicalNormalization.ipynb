{
 "cells": [
  {
   "cell_type": "markdown",
   "metadata": {
    "colab_type": "text",
    "id": "view-in-github"
   },
   "source": [
    "<a href=\"https://colab.research.google.com/github/pkolachi/lexicalnormalization/blob/master/exptnbs/LexicalNormalization.ipynb\" target=\"_parent\"><img src=\"https://colab.research.google.com/assets/colab-badge.svg\" alt=\"Open In Colab\"/></a>"
   ]
  },
  {
   "cell_type": "markdown",
   "metadata": {
    "id": "xzRtzY3ApXhe"
   },
   "source": [
    "### Setup and Configuration"
   ]
  },
  {
   "cell_type": "code",
   "execution_count": 1,
   "metadata": {
    "colab": {
     "base_uri": "https://localhost:8080/"
    },
    "id": "ywhY3ZLXJs0P",
    "outputId": "3f5d2e6d-c936-4ac8-c761-601b2271965d"
   },
   "outputs": [
    {
     "name": "stdout",
     "output_type": "stream",
     "text": [
      "Cloning into 'lexicalnormalization'...\n",
      "remote: Enumerating objects: 59, done.\u001b[K\n",
      "remote: Counting objects:   1% (1/59)\u001b[K\r",
      "remote: Counting objects:   3% (2/59)\u001b[K\r",
      "remote: Counting objects:   5% (3/59)\u001b[K\r",
      "remote: Counting objects:   6% (4/59)\u001b[K\r",
      "remote: Counting objects:   8% (5/59)\u001b[K\r",
      "remote: Counting objects:  10% (6/59)\u001b[K\r",
      "remote: Counting objects:  11% (7/59)\u001b[K\r",
      "remote: Counting objects:  13% (8/59)\u001b[K\r",
      "remote: Counting objects:  15% (9/59)\u001b[K\r",
      "remote: Counting objects:  16% (10/59)\u001b[K\r",
      "remote: Counting objects:  18% (11/59)\u001b[K\r",
      "remote: Counting objects:  20% (12/59)\u001b[K\r",
      "remote: Counting objects:  22% (13/59)\u001b[K\r",
      "remote: Counting objects:  23% (14/59)\u001b[K\r",
      "remote: Counting objects:  25% (15/59)\u001b[K\r",
      "remote: Counting objects:  27% (16/59)\u001b[K\r",
      "remote: Counting objects:  28% (17/59)\u001b[K\r",
      "remote: Counting objects:  30% (18/59)\u001b[K\r",
      "remote: Counting objects:  32% (19/59)\u001b[K\r",
      "remote: Counting objects:  33% (20/59)\u001b[K\r",
      "remote: Counting objects:  35% (21/59)\u001b[K\r",
      "remote: Counting objects:  37% (22/59)\u001b[K\r",
      "remote: Counting objects:  38% (23/59)\u001b[K\r",
      "remote: Counting objects:  40% (24/59)\u001b[K\r",
      "remote: Counting objects:  42% (25/59)\u001b[K\r",
      "remote: Counting objects:  44% (26/59)\u001b[K\r",
      "remote: Counting objects:  45% (27/59)\u001b[K\r",
      "remote: Counting objects:  47% (28/59)\u001b[K\r",
      "remote: Counting objects:  49% (29/59)\u001b[K\r",
      "remote: Counting objects:  50% (30/59)\u001b[K\r",
      "remote: Counting objects:  52% (31/59)\u001b[K\r",
      "remote: Counting objects:  54% (32/59)\u001b[K\r",
      "remote: Counting objects:  55% (33/59)\u001b[K\r",
      "remote: Counting objects:  57% (34/59)\u001b[K\r",
      "remote: Counting objects:  59% (35/59)\u001b[K\r",
      "remote: Counting objects:  61% (36/59)\u001b[K\r",
      "remote: Counting objects:  62% (37/59)\u001b[K\r",
      "remote: Counting objects:  64% (38/59)\u001b[K\r",
      "remote: Counting objects:  66% (39/59)\u001b[K\r",
      "remote: Counting objects:  67% (40/59)\u001b[K\r",
      "remote: Counting objects:  69% (41/59)\u001b[K\r",
      "remote: Counting objects:  71% (42/59)\u001b[K\r",
      "remote: Counting objects:  72% (43/59)\u001b[K\r",
      "remote: Counting objects:  74% (44/59)\u001b[K\r",
      "remote: Counting objects:  76% (45/59)\u001b[K\r",
      "remote: Counting objects:  77% (46/59)\u001b[K\r",
      "remote: Counting objects:  79% (47/59)\u001b[K\r",
      "remote: Counting objects:  81% (48/59)\u001b[K\r",
      "remote: Counting objects:  83% (49/59)\u001b[K\r",
      "remote: Counting objects:  84% (50/59)\u001b[K\r",
      "remote: Counting objects:  86% (51/59)\u001b[K\r",
      "remote: Counting objects:  88% (52/59)\u001b[K\r",
      "remote: Counting objects:  89% (53/59)\u001b[K\r",
      "remote: Counting objects:  91% (54/59)\u001b[K\r",
      "remote: Counting objects:  93% (55/59)\u001b[K\r",
      "remote: Counting objects:  94% (56/59)\u001b[K\r",
      "remote: Counting objects:  96% (57/59)\u001b[K\r",
      "remote: Counting objects:  98% (58/59)\u001b[K\r",
      "remote: Counting objects: 100% (59/59)\u001b[K\r",
      "remote: Counting objects: 100% (59/59), done.\u001b[K\n",
      "remote: Compressing objects: 100% (50/50), done.\u001b[K\n",
      "remote: Total 59 (delta 4), reused 51 (delta 2), pack-reused 0\u001b[K\n",
      "Unpacking objects: 100% (59/59), done.\n",
      "Requirement already up-to-date: pandas==1.1.5 in /root/.local/lib/python3.7/site-packages (1.1.5)\n",
      "Requirement already satisfied, skipping upgrade: numpy>=1.15.4 in /usr/local/lib/python3.7/dist-packages (from pandas==1.1.5) (1.19.5)\n",
      "Requirement already satisfied, skipping upgrade: pytz>=2017.2 in /usr/local/lib/python3.7/dist-packages (from pandas==1.1.5) (2018.9)\n",
      "Requirement already satisfied, skipping upgrade: python-dateutil>=2.7.3 in /usr/local/lib/python3.7/dist-packages (from pandas==1.1.5) (2.8.1)\n",
      "Requirement already satisfied, skipping upgrade: six>=1.5 in /usr/local/lib/python3.7/dist-packages (from python-dateutil>=2.7.3->pandas==1.1.5) (1.15.0)\n",
      "Requirement already up-to-date: scikit-learn==0.22.2.post1 in /usr/local/lib/python3.7/dist-packages (0.22.2.post1)\n",
      "Requirement already satisfied, skipping upgrade: numpy>=1.11.0 in /usr/local/lib/python3.7/dist-packages (from scikit-learn==0.22.2.post1) (1.19.5)\n",
      "Requirement already satisfied, skipping upgrade: scipy>=0.17.0 in /usr/local/lib/python3.7/dist-packages (from scikit-learn==0.22.2.post1) (1.4.1)\n",
      "Requirement already satisfied, skipping upgrade: joblib>=0.11 in /usr/local/lib/python3.7/dist-packages (from scikit-learn==0.22.2.post1) (1.0.1)\n"
     ]
    }
   ],
   "source": [
    "!git clone https://github.com/pkolachi/lexicalnormalization\n",
    "%pip install --user -U pandas==1.1.5\n",
    "%pip install --user -U scikit-learn==0.22.2.post1"
   ]
  },
  {
   "cell_type": "code",
   "execution_count": 2,
   "metadata": {
    "id": "GTkdFPXmKBCH"
   },
   "outputs": [],
   "source": [
    "REPO_NAME = 'lexicalnormalization'\n",
    "LANGS = {'da': 'Danish',\n",
    "         'en': 'English',\n",
    "         'es': 'Spanish',\n",
    "         'hr': 'Croatian',\n",
    "         'iden': 'Indonesian-English',\n",
    "         'it': 'Italian',\n",
    "         'nl': 'Dutch',\n",
    "         'sl': 'Slovenian',\n",
    "         'sr': 'Serbian',\n",
    "         'tr': 'Turkish',\n",
    "         'trde': 'Turkish-German',\n",
    "         }\n",
    "SMPLS = LANGS.keys()"
   ]
  },
  {
   "cell_type": "markdown",
   "metadata": {
    "id": "BSzppLsjpdql"
   },
   "source": [
    "### Load Data"
   ]
  },
  {
   "cell_type": "code",
   "execution_count": 3,
   "metadata": {
    "colab": {
     "base_uri": "https://localhost:8080/"
    },
    "id": "VTSBr-AMNXzf",
    "outputId": "3aef6af2-50a3-44af-a340-035a9a715331"
   },
   "outputs": [
    {
     "name": "stdout",
     "output_type": "stream",
     "text": [
      "Removed 1 sentences from lexicalnormalization/data/nl/train.norm\n"
     ]
    }
   ],
   "source": [
    "from collections import defaultdict \n",
    "from operator import itemgetter\n",
    "import os.path \n",
    "import pandas as pd\n",
    "\n",
    "def read_data(inpfile):\n",
    "  with open(inpfile) as ins:\n",
    "    sent = []\n",
    "    for lne in ins:\n",
    "      if not lne.strip():\n",
    "        yield sent\n",
    "        sent = []\n",
    "      else:\n",
    "        sent.append(tuple(lne.strip('\\n').split('\\t', 1)))\n",
    "\n",
    "sanitize_crp  = lambda sent: all(len(fields) == 2 for fields in sent)\n",
    "get_rawtokens = lambda sent: list(map(itemgetter(0), sent)) # load input (un-normalized sentences)\n",
    "get_nrmtokens = lambda sent: list(map(itemgetter(1), sent)) # load output (normalized sentences)\n",
    "\n",
    "DATA = defaultdict(lambda: defaultdict(lambda: ([], [])))\n",
    "for lang in SMPLS:\n",
    "  datadir = os.path.join(REPO_NAME, 'data', lang)\n",
    "  trnfile = os.path.join(datadir, 'train.norm')\n",
    "  devfile = os.path.join(datadir, 'dev.norm')\n",
    "  tstfile = os.path.join(datadir, 'test.norm')\n",
    "  for dts, dtf in [('fulltrn', trnfile), ('dev', devfile), ('tst', tstfile)]:\n",
    "    if os.path.isdir(datadir) and os.path.isfile(dtf):\n",
    "      ocrp = list(read_data(dtf))\n",
    "      # sanitize corpus to make sure\n",
    "      fcrp = list(filter(sanitize_crp, ocrp))\n",
    "      if len(ocrp) != len(fcrp): print(\"Removed {0} sentences from {1}\".format(len(ocrp)-len(fcrp), dtf))\n",
    "      X = list(map(get_rawtokens, fcrp))  \n",
    "      Y = list(map(get_nrmtokens, fcrp)) \n",
    "      DATA[lang][dts] = (X, Y)"
   ]
  },
  {
   "cell_type": "code",
   "execution_count": 4,
   "metadata": {
    "id": "V4J-9JaRXMOX"
   },
   "outputs": [],
   "source": [
    "TST_RATIO = 0.15\n",
    "from sklearn.model_selection import train_test_split \n",
    "\n",
    "for lang in SMPLS:\n",
    "  if 'fulltrn' in DATA[lang]:\n",
    "    trn_x, hld_x, trn_y, hld_y = train_test_split(DATA[lang]['fulltrn'][0], \n",
    "                                                  DATA[lang]['fulltrn'][1], \n",
    "                                                  test_size=TST_RATIO, \n",
    "                                                  random_state=0, \n",
    "                                                  shuffle=False)\n",
    "    DATA[lang]['trn'] = (trn_x, trn_y)\n",
    "    DATA[lang]['hld'] = (hld_x, hld_y)"
   ]
  },
  {
   "cell_type": "code",
   "execution_count": 5,
   "metadata": {
    "colab": {
     "base_uri": "https://localhost:8080/",
     "height": 407
    },
    "id": "7nz69Y8xwD5U",
    "outputId": "a9e3e8d9-ccb8-4212-e825-8b8a9a2613b2"
   },
   "outputs": [
    {
     "data": {
      "text/html": [
       "<div>\n",
       "<style scoped>\n",
       "    .dataframe tbody tr th:only-of-type {\n",
       "        vertical-align: middle;\n",
       "    }\n",
       "\n",
       "    .dataframe tbody tr th {\n",
       "        vertical-align: top;\n",
       "    }\n",
       "\n",
       "    .dataframe thead th {\n",
       "        text-align: right;\n",
       "    }\n",
       "</style>\n",
       "<table border=\"1\" class=\"dataframe\">\n",
       "  <thead>\n",
       "    <tr style=\"text-align: right;\">\n",
       "      <th></th>\n",
       "      <th>lang</th>\n",
       "      <th>Training</th>\n",
       "      <th>Held-out</th>\n",
       "      <th>Development</th>\n",
       "      <th>Testing</th>\n",
       "    </tr>\n",
       "  </thead>\n",
       "  <tbody>\n",
       "    <tr>\n",
       "      <th>0</th>\n",
       "      <td>Danish</td>\n",
       "      <td>175</td>\n",
       "      <td>32</td>\n",
       "      <td>0</td>\n",
       "      <td>0</td>\n",
       "    </tr>\n",
       "    <tr>\n",
       "      <th>1</th>\n",
       "      <td>English</td>\n",
       "      <td>2006</td>\n",
       "      <td>354</td>\n",
       "      <td>590</td>\n",
       "      <td>0</td>\n",
       "    </tr>\n",
       "    <tr>\n",
       "      <th>2</th>\n",
       "      <td>Spanish</td>\n",
       "      <td>482</td>\n",
       "      <td>86</td>\n",
       "      <td>0</td>\n",
       "      <td>0</td>\n",
       "    </tr>\n",
       "    <tr>\n",
       "      <th>3</th>\n",
       "      <td>French</td>\n",
       "      <td>0</td>\n",
       "      <td>0</td>\n",
       "      <td>0</td>\n",
       "      <td>0</td>\n",
       "    </tr>\n",
       "    <tr>\n",
       "      <th>4</th>\n",
       "      <td>Croatian</td>\n",
       "      <td>4049</td>\n",
       "      <td>715</td>\n",
       "      <td>1588</td>\n",
       "      <td>0</td>\n",
       "    </tr>\n",
       "    <tr>\n",
       "      <th>5</th>\n",
       "      <td>Indonesian-English</td>\n",
       "      <td>420</td>\n",
       "      <td>75</td>\n",
       "      <td>165</td>\n",
       "      <td>0</td>\n",
       "    </tr>\n",
       "    <tr>\n",
       "      <th>6</th>\n",
       "      <td>Italian</td>\n",
       "      <td>504</td>\n",
       "      <td>89</td>\n",
       "      <td>0</td>\n",
       "      <td>0</td>\n",
       "    </tr>\n",
       "    <tr>\n",
       "      <th>7</th>\n",
       "      <td>Dutch</td>\n",
       "      <td>796</td>\n",
       "      <td>141</td>\n",
       "      <td>313</td>\n",
       "      <td>0</td>\n",
       "    </tr>\n",
       "    <tr>\n",
       "      <th>8</th>\n",
       "      <td>Slovenian</td>\n",
       "      <td>3969</td>\n",
       "      <td>701</td>\n",
       "      <td>1557</td>\n",
       "      <td>0</td>\n",
       "    </tr>\n",
       "    <tr>\n",
       "      <th>9</th>\n",
       "      <td>Serbian</td>\n",
       "      <td>3517</td>\n",
       "      <td>621</td>\n",
       "      <td>1381</td>\n",
       "      <td>0</td>\n",
       "    </tr>\n",
       "    <tr>\n",
       "      <th>10</th>\n",
       "      <td>Turkish</td>\n",
       "      <td>486</td>\n",
       "      <td>86</td>\n",
       "      <td>0</td>\n",
       "      <td>0</td>\n",
       "    </tr>\n",
       "    <tr>\n",
       "      <th>11</th>\n",
       "      <td>Turkish-German</td>\n",
       "      <td>680</td>\n",
       "      <td>120</td>\n",
       "      <td>0</td>\n",
       "      <td>0</td>\n",
       "    </tr>\n",
       "  </tbody>\n",
       "</table>\n",
       "</div>"
      ],
      "text/plain": [
       "                  lang  Training  Held-out  Development  Testing\n",
       "0               Danish       175        32            0        0\n",
       "1              English      2006       354          590        0\n",
       "2              Spanish       482        86            0        0\n",
       "3               French         0         0            0        0\n",
       "4             Croatian      4049       715         1588        0\n",
       "5   Indonesian-English       420        75          165        0\n",
       "6              Italian       504        89            0        0\n",
       "7                Dutch       796       141          313        0\n",
       "8            Slovenian      3969       701         1557        0\n",
       "9              Serbian      3517       621         1381        0\n",
       "10             Turkish       486        86            0        0\n",
       "11      Turkish-German       680       120            0        0"
      ]
     },
     "execution_count": 5,
     "metadata": {
      "tags": []
     },
     "output_type": "execute_result"
    }
   ],
   "source": [
    "columns = ['Language', 'Training', 'Held-out', 'Development', 'Testing']\n",
    "datasizes = [[LANGS[lang]]+[len(DATA[lang][crp][0]) \n",
    "                     for crp in ('trn', 'hld', 'dev', 'tst')] \n",
    "             for lang in SMPLS]\n",
    "datasizes = pd.DataFrame.from_records(datasizes, columns=columns)\n",
    "\n",
    "datasizes"
   ]
  },
  {
   "cell_type": "code",
   "execution_count": 6,
   "metadata": {
    "id": "DkCFpXbrwD5U"
   },
   "outputs": [],
   "source": [
    "%rm -rf $REPO_NAME"
   ]
  },
  {
   "cell_type": "markdown",
   "metadata": {
    "id": "LdjItmlUpj3k"
   },
   "source": [
    "### Preprocessing"
   ]
  },
  {
   "cell_type": "code",
   "execution_count": 6,
   "metadata": {
    "id": "7qkRzWpGY-fW"
   },
   "outputs": [],
   "source": []
  },
  {
   "cell_type": "markdown",
   "metadata": {
    "id": "x5arwc2T385K"
   },
   "source": [
    "### Sequence classification using HMM models"
   ]
  },
  {
   "cell_type": "code",
   "execution_count": null,
   "metadata": {
    "id": "YtNuRD1539GR"
   },
   "outputs": [],
   "source": []
  }
 ],
 "metadata": {
  "colab": {
   "include_colab_link": true,
   "name": "LexicalNormalization.ipynb",
   "provenance": []
  },
  "kernelspec": {
   "display_name": "Python 3",
   "language": "python",
   "name": "python3"
  },
  "language_info": {
   "codemirror_mode": {
    "name": "ipython",
    "version": 3
   },
   "file_extension": ".py",
   "mimetype": "text/x-python",
   "name": "python",
   "nbconvert_exporter": "python",
   "pygments_lexer": "ipython3",
   "version": "3.8.5"
  }
 },
 "nbformat": 4,
 "nbformat_minor": 1
}
